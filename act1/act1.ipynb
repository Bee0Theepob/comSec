{
 "cells": [
  {
   "cell_type": "code",
   "execution_count": 134,
   "metadata": {},
   "outputs": [],
   "source": [
    "import hashlib\n",
    "import bcrypt\n",
    "import time\n",
    "import random\n",
    "import string"
   ]
  },
  {
   "cell_type": "markdown",
   "metadata": {},
   "source": [
    "# 1"
   ]
  },
  {
   "cell_type": "code",
   "execution_count": 135,
   "metadata": {},
   "outputs": [],
   "source": [
    "target_hash = \"d54cc1fe76f5186380a0939d2fc1723c44e8a5f7\""
   ]
  },
  {
   "cell_type": "code",
   "execution_count": 136,
   "metadata": {},
   "outputs": [],
   "source": [
    "def letsgo(word,idx,now,result):\n",
    "    if(idx < len(word)):\n",
    "        letsgo(word, idx+1,now+word[idx].lower(),result)\n",
    "        letsgo(word, idx+1,now+word[idx].upper(),result)\n",
    "    else:\n",
    "        result.append(now)\n",
    "\n",
    "def generate_variants(word):\n",
    "    result = []\n",
    "    letsgo(word, 0, \"\", result)\n",
    "    return result"
   ]
  },
  {
   "cell_type": "code",
   "execution_count": 137,
   "metadata": {},
   "outputs": [
    {
     "data": {
      "text/plain": [
       "['abc', 'abC', 'aBc', 'aBC', 'Abc', 'AbC', 'ABc', 'ABC']"
      ]
     },
     "execution_count": 137,
     "metadata": {},
     "output_type": "execute_result"
    }
   ],
   "source": [
    "generate_variants(\"abc\")"
   ]
  },
  {
   "cell_type": "code",
   "execution_count": 138,
   "metadata": {},
   "outputs": [
    {
     "name": "stdout",
     "output_type": "stream",
     "text": [
      "Match found! Word: thailand Variant: ThaiLanD\n"
     ]
    }
   ],
   "source": [
    "found = False\n",
    "with open(\"10k-most-common.txt\", \"r\", encoding=\"utf-8\") as f:\n",
    "    words = [line.strip() for line in f]\n",
    "    for word in words:\n",
    "        for variant in generate_variants(word):\n",
    "            hashed = hashlib.sha1(variant.encode('utf-8')).hexdigest()\n",
    "            if hashed == target_hash:\n",
    "                print(f\"Match found! Word: {word} Variant: {variant}\")\n",
    "                found = True\n",
    "                break\n",
    "if not found:\n",
    "    print(\"No match found.\")"
   ]
  },
  {
   "cell_type": "markdown",
   "metadata": {},
   "source": [
    "## ANS: ThaiLanD"
   ]
  },
  {
   "cell_type": "markdown",
   "metadata": {},
   "source": [
    "# 2"
   ]
  },
  {
   "cell_type": "code",
   "execution_count": 139,
   "metadata": {},
   "outputs": [],
   "source": [
    "def check_time(word, hashAlgo, duration):\n",
    "    count = 0\n",
    "    start_time = time.time()\n",
    "    while time.time() - start_time < duration:\n",
    "        hashed = hashlib.md5(word).hexdigest()\n",
    "        count += 1\n",
    "    return count\n",
    "\n",
    "\n",
    "def check_time_forBCRYPT(word, duration):\n",
    "    start = time.time()\n",
    "    count = 0\n",
    "    while time.time() - start < duration:\n",
    "        hashed = bcrypt.hashpw(word, bcrypt.gensalt())\n",
    "        count += 1\n",
    "    return count"
   ]
  },
  {
   "cell_type": "code",
   "execution_count": 140,
   "metadata": {},
   "outputs": [],
   "source": [
    "def generate_someword(length):\n",
    "    letters = string.ascii_letters + string.digits + string.punctuation\n",
    "    return (''.join(random.choice(letters) for i in range(length))).encode(\"utf-8\")"
   ]
  },
  {
   "cell_type": "code",
   "execution_count": 141,
   "metadata": {},
   "outputs": [
    {
     "name": "stdout",
     "output_type": "stream",
     "text": [
      "i: 0, data: b'KF0N-U#0+b$kHiT<iWq:oyE\\\\.1:vj&k,'\n",
      "MD5 hashes in 10s: 9667338\n",
      "SHA1 hashes in 10s: 9917588\n",
      "bcrypt hashes in 10s: 28\n",
      "--------------------------------------------------\n",
      "i: 1, data: b',<\\\\gQr!&x)6ZfS;D34Y@,gY=UJKN[:$z'\n",
      "MD5 hashes in 10s: 9617427\n",
      "SHA1 hashes in 10s: 9983451\n",
      "bcrypt hashes in 10s: 28\n",
      "--------------------------------------------------\n",
      "i: 2, data: b'\\\\>8OL#Hq/7;{jy5:uYWt[l?hle[p8c5b'\n",
      "MD5 hashes in 10s: 9880884\n",
      "SHA1 hashes in 10s: 9607370\n",
      "bcrypt hashes in 10s: 28\n",
      "--------------------------------------------------\n",
      "i: 3, data: b'\"JaL@75/\\\\V97vBg$R\\'#{;PC$rNS0pA=='\n",
      "MD5 hashes in 10s: 9537807\n",
      "SHA1 hashes in 10s: 9955714\n",
      "bcrypt hashes in 10s: 28\n",
      "--------------------------------------------------\n",
      "i: 4, data: b'I%ER.\\\\K>_pqZZZ7dG@zO7f]jUv=iY.8z'\n",
      "MD5 hashes in 10s: 9615537\n",
      "SHA1 hashes in 10s: 9897570\n",
      "bcrypt hashes in 10s: 28\n",
      "--------------------------------------------------\n",
      "i: 5, data: b\"'uuGmmf>.Wf0.UR9^2X5Ev@qZ2~|7K7C\"\n",
      "MD5 hashes in 10s: 9542790\n",
      "SHA1 hashes in 10s: 9748835\n",
      "bcrypt hashes in 10s: 23\n",
      "--------------------------------------------------\n",
      "i: 6, data: b\"d(vF69;^'$h^s`!k!A[CuE<@KUwWh[XJ\"\n",
      "MD5 hashes in 10s: 5458882\n",
      "SHA1 hashes in 10s: 3577113\n",
      "bcrypt hashes in 10s: 31\n",
      "--------------------------------------------------\n",
      "i: 7, data: b'1.C-xTnbTuT|U{Uz2(Z#~et^gB{u*tcw'\n",
      "MD5 hashes in 10s: 9560148\n",
      "SHA1 hashes in 10s: 9827986\n",
      "bcrypt hashes in 10s: 28\n",
      "--------------------------------------------------\n",
      "i: 8, data: b'v>k*QHGy*6;a\\\\99{n\\'B4%`G_x\\'\\\\yB\"Xr'\n",
      "MD5 hashes in 10s: 9623209\n",
      "SHA1 hashes in 10s: 9537312\n",
      "bcrypt hashes in 10s: 28\n",
      "--------------------------------------------------\n",
      "i: 9, data: b'r@5zIo92\\\\BU1USS]lj(;|:sTi7&C./^('\n",
      "MD5 hashes in 10s: 9625339\n",
      "SHA1 hashes in 10s: 9931132\n",
      "bcrypt hashes in 10s: 28\n",
      "--------------------------------------------------\n",
      "Average from 10 rounds\n",
      "MD5 hashes in 10s: 9212936.1\n",
      "SHA1 hashes in 10s: 9198407.1\n",
      "bcrypt hashes in 10s: 27.8\n"
     ]
    }
   ],
   "source": [
    "sum_md5_time = 0\n",
    "sum_sha1_time = 0\n",
    "sum_bcrypt_time = 0\n",
    "duration = 10\n",
    "for i in range(10):\n",
    "    data = generate_someword(32)\n",
    "    print(f\"i: {i}, data: {data}\")\n",
    "    md5_time = check_time(data, hashlib.md5, duration)\n",
    "    sum_md5_time += md5_time\n",
    "    sha1_time = check_time(data, hashlib.sha1, duration)\n",
    "    sum_sha1_time += sha1_time\n",
    "    bcrypt_time = check_time_forBCRYPT(data, duration)\n",
    "    sum_bcrypt_time += bcrypt_time\n",
    "    print(f\"MD5 hashes in {duration}s: {md5_time}\")\n",
    "    print(f\"SHA1 hashes in {duration}s: {sha1_time}\")\n",
    "    print(f\"bcrypt hashes in {duration}s: {bcrypt_time}\")\n",
    "    print(\"-\" * 50)\n",
    "\n",
    "print(\"Average from 10 rounds\")\n",
    "print(f\"MD5 hashes in {duration}s: {sum_md5_time/10}\")\n",
    "print(f\"SHA1 hashes in {duration}s: {sum_sha1_time/10}\")\n",
    "print(f\"bcrypt hashes in {duration}s: {sum_bcrypt_time/10}\")"
   ]
  },
  {
   "cell_type": "markdown",
   "metadata": {},
   "source": [
    "# 3"
   ]
  },
  {
   "cell_type": "code",
   "execution_count": 142,
   "metadata": {},
   "outputs": [
    {
     "name": "stdout",
     "output_type": "stream",
     "text": [
      "2621085794.285714\n",
      "wfsfs\n"
     ]
    }
   ],
   "source": [
    "a= (94**5) * 0.35714285714285715\n",
    "print(a)\n",
    "if(a>31536000):\n",
    "    print(\"wfsfs\")\n"
   ]
  },
  {
   "cell_type": "markdown",
   "metadata": {},
   "source": [
    "### MD5 take 10/9696102.1 sec = 1.031342275160242e-06 sec to hash 1 word\n",
    "### SHA-1 take 10/9659511.6 sec = 1.0352490285326641e-06 sec to hash 1 word\n",
    "### bcrypt take 10/28 sec = 0.35714285714285715 sec to hash 1 word\n",
    "\n",
    "### assume that the password contain only upper-case(26), lower-case(26), numbers(10) and symbol(32) (26+26+10+32 = 94)\n",
    "### ,and 1 year = 31536000 sec\n",
    "\n",
    "### MD5: (94**n) * 1.031342275160242e-06 >= 31536000\n",
    "### SHA-1: (94**n) * 1.0352490285326641e-06 >= 31536000\n",
    "### bcypt: (94**n) * 0.35714285714285715 >= 31536000\n",
    "\n",
    "### MD5 : more than 7\n",
    "### SHA-1 : more than 7\n",
    "### bcrypt : more than 5\n",
    "\n"
   ]
  },
  {
   "cell_type": "markdown",
   "metadata": {},
   "source": [
    "# 4\n",
    "## ANS: Yes, but may take a long long time depending on password length"
   ]
  },
  {
   "cell_type": "markdown",
   "metadata": {},
   "source": [
    "# 5\n",
    "## ANS: No,bcrypt has a salt embedded in the hash, which prevents the use of rainbow tables."
   ]
  },
  {
   "cell_type": "markdown",
   "metadata": {},
   "source": [
    "# 6\n",
    "## ANS: ใช้hash function เป็น bcypt เพราะ จากการทดลอง ใช้เวลาในการถอดรหัสนาน ต้องมีการใช้saltที่ไม่ซ้ำกันกับuserอื่น ใช้cost factorให้สูงพอ(อ้างอิงchatgpt 12-14ขึ้นไป) อาจเสริมความปลอดภัยด้วยการใช้ pepper ที่เก็บไว้แยกจากฐานข้อมูล โดยจะเก็บเฉพาะค่าแฮชและพารามิเตอร์ที่จำเป็น ไม่เก็บรหัสผ่านจริง ตัวฐานข้อมูลเองต้องมีการตั้งสิทธิ์ต่างๆและใช้MFAเพื่อเสริมความแข็งแรงโดยรวมของระบบ"
   ]
  }
 ],
 "metadata": {
  "kernelspec": {
   "display_name": "Python 3",
   "language": "python",
   "name": "python3"
  },
  "language_info": {
   "codemirror_mode": {
    "name": "ipython",
    "version": 3
   },
   "file_extension": ".py",
   "mimetype": "text/x-python",
   "name": "python",
   "nbconvert_exporter": "python",
   "pygments_lexer": "ipython3",
   "version": "3.12.3"
  }
 },
 "nbformat": 4,
 "nbformat_minor": 2
}
