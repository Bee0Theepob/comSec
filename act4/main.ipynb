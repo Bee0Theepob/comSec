{
 "cells": [
  {
   "cell_type": "markdown",
   "id": "53d0e0ae",
   "metadata": {},
   "source": [
    "# 1"
   ]
  },
  {
   "cell_type": "code",
   "execution_count": 27,
   "id": "904c7ad6",
   "metadata": {},
   "outputs": [],
   "source": [
    "import matplotlib.pyplot as plt\n",
    "import itertools\n",
    "import string\n",
    "from tqdm import tqdm"
   ]
  },
  {
   "cell_type": "code",
   "execution_count": 28,
   "id": "5665e09e",
   "metadata": {},
   "outputs": [],
   "source": [
    "cipher_text = \"PRCSOFQX FP QDR AFOPQ CZSPR LA JFPALOQSKR. QDFP FP ZK LIU BROJZK MOLTROE\""
   ]
  },
  {
   "cell_type": "code",
   "execution_count": 29,
   "id": "c6c52560",
   "metadata": {},
   "outputs": [],
   "source": [
    "freq = {}\n",
    "for c in cipher_text:\n",
    "    if c.isalpha():\n",
    "        freq[c] = freq.get(c, 0) + 1"
   ]
  },
  {
   "cell_type": "code",
   "execution_count": 30,
   "id": "62238237",
   "metadata": {},
   "outputs": [
    {
     "name": "stdout",
     "output_type": "stream",
     "text": [
      "[('P', 7), ('R', 6), ('O', 6), ('F', 6), ('Q', 5), ('L', 4), ('S', 3), ('A', 3), ('Z', 3), ('K', 3), ('C', 2), ('D', 2), ('J', 2), ('X', 1), ('I', 1), ('U', 1), ('B', 1), ('M', 1), ('T', 1), ('E', 1)]\n"
     ]
    },
    {
     "data": {
      "image/png": "[encoded data removed]",
      "text/plain": [
       "<Figure size 640x480 with 1 Axes>"
      ]
     },
     "metadata": {},
     "output_type": "display_data"
    }
   ],
   "source": [
    "sorted_items = sorted(freq.items(), key=lambda x: x[1], reverse=True)\n",
    "print(sorted_items)\n",
    "\n",
    "letters_sorted = [item[0] for item in sorted_items]\n",
    "counts_sorted = [item[1] for item in sorted_items]\n",
    "\n",
    "bars = plt.bar(letters_sorted, counts_sorted, color='C0')\n",
    "plt.show()"
   ]
  },
  {
   "cell_type": "markdown",
   "id": "df09d3a4",
   "metadata": {},
   "source": [
    "![alt text](f_letter.png)"
   ]
  },
  {
   "cell_type": "markdown",
   "id": "d34efe22",
   "metadata": {},
   "source": [
    "a. ANS: P, R, O"
   ]
  },
  {
   "cell_type": "code",
   "execution_count": 31,
   "id": "3afdac62",
   "metadata": {},
   "outputs": [
    {
     "name": "stdout",
     "output_type": "stream",
     "text": [
      "encoded text : PRCSOFQX FP QDR AFOPQ CZSPR LA JFPALOQSKR. QDFP FP ZK LIU BROJZK MOLTROE\n",
      "decoded text : SECSOITX IS THE AIOST CZSSE LA JISALOTSKE. THIS IS ZK LIU BEOJZK MOLTEOE\n",
      "['S', 'E', 'C', 'S', 'O', 'I', 'T', 'X', ' ', 'I', 'S', ' ', 'T', 'H', 'E', ' ', 'A', 'I', 'O', 'S', 'T', ' ', 'C', 'Z', 'S', 'S', 'E', ' ', 'L', 'A', ' ', 'J', 'I', 'S', 'A', 'L', 'O', 'T', 'S', 'K', 'E', '.', ' ', 'T', 'H', 'I', 'S', ' ', 'I', 'S', ' ', 'Z', 'K', ' ', 'L', 'I', 'U', ' ', 'B', 'E', 'O', 'J', 'Z', 'K', ' ', 'M', 'O', 'L', 'T', 'E', 'O', 'E']\n",
      "['1', '1', '0', '0', '0', '1', '1', '0', '0', '1', '1', '0', '1', '1', '1', '0', '0', '1', '0', '1', '1', '0', '0', '0', '0', '1', '1', '0', '0', '0', '0', '0', '1', '1', '0', '0', '0', '1', '0', '0', '1', '0', '0', '1', '1', '1', '1', '0', '1', '1', '0', '0', '0', '0', '0', '0', '0', '0', '0', '1', '0', '0', '0', '0', '0', '0', '0', '0', '0', '1', '0', '0']\n"
     ]
    }
   ],
   "source": [
    "#FP -> IS, QDR -> THE\n",
    "sub_dic1 = {\"P\":\"S\",\"F\":\"I\",\"Q\":\"T\",\"D\":\"H\",\"R\":\"E\" }\n",
    "print(\"encoded text : \"+cipher_text)\n",
    "def decode(cipher_text, dic):\n",
    "    decoded_text = []\n",
    "    isSubstituted = []\n",
    "    for c in cipher_text:\n",
    "        if c in dic:\n",
    "            decoded_text.append(dic[c])\n",
    "            isSubstituted.append(\"1\")\n",
    "        else:\n",
    "            decoded_text.append(c)\n",
    "            isSubstituted.append(\"0\")\n",
    "    print(\"decoded text : \"+\"\".join(decoded_text))\n",
    "    return decoded_text, isSubstituted\n",
    "decoded_text, isSubstitute = decode(cipher_text, sub_dic1)\n",
    "print(decoded_text)\n",
    "print(isSubstitute)"
   ]
  },
  {
   "cell_type": "code",
   "execution_count": 32,
   "id": "daad5ae0",
   "metadata": {},
   "outputs": [
    {
     "name": "stdout",
     "output_type": "stream",
     "text": [
      "decoded text : SECSOITX IS THE AIOST CASSE LA JISALOTSNE. THIS IS AN LIU BEOJAN MOLTEOE\n",
      "['S', 'E', 'C', 'S', 'O', 'I', 'T', 'X', ' ', 'I', 'S', ' ', 'T', 'H', 'E', ' ', 'A', 'I', 'O', 'S', 'T', ' ', 'C', 'A', 'S', 'S', 'E', ' ', 'L', 'A', ' ', 'J', 'I', 'S', 'A', 'L', 'O', 'T', 'S', 'N', 'E', '.', ' ', 'T', 'H', 'I', 'S', ' ', 'I', 'S', ' ', 'A', 'N', ' ', 'L', 'I', 'U', ' ', 'B', 'E', 'O', 'J', 'A', 'N', ' ', 'M', 'O', 'L', 'T', 'E', 'O', 'E']\n",
      "['1', '1', '0', '0', '0', '1', '1', '0', '0', '1', '1', '0', '1', '1', '1', '0', '0', '1', '0', '1', '1', '0', '0', '1', '0', '1', '1', '0', '0', '0', '0', '0', '1', '1', '0', '0', '0', '1', '0', '1', '1', '0', '0', '1', '1', '1', '1', '0', '1', '1', '0', '1', '1', '0', '0', '0', '0', '0', '0', '1', '0', '0', '1', '1', '0', '0', '0', '0', '0', '1', '0', '0']\n"
     ]
    }
   ],
   "source": [
    "#FP -> IS, QDR -> THE\n",
    "#ZK -> AN\n",
    "sub_dic2 = {\"P\":\"S\",\"F\":\"I\",\"Q\":\"T\",\"D\":\"H\",\"R\":\"E\",\"Z\":\"A\",\"K\":\"N\"}\n",
    "decoded_text, isSubstitute = decode(cipher_text, sub_dic2)\n",
    "print(decoded_text)\n",
    "print(isSubstitute)"
   ]
  },
  {
   "cell_type": "code",
   "execution_count": 33,
   "id": "9f7a9535",
   "metadata": {},
   "outputs": [
    {
     "name": "stdout",
     "output_type": "stream",
     "text": [
      "decoded text : SECSOITX IS THE FIOST CASSE OF JISFOOTSNE. THIS IS AN OIU BEOJAN MOOTEOE\n",
      "['S', 'E', 'C', 'S', 'O', 'I', 'T', 'X', ' ', 'I', 'S', ' ', 'T', 'H', 'E', ' ', 'F', 'I', 'O', 'S', 'T', ' ', 'C', 'A', 'S', 'S', 'E', ' ', 'O', 'F', ' ', 'J', 'I', 'S', 'F', 'O', 'O', 'T', 'S', 'N', 'E', '.', ' ', 'T', 'H', 'I', 'S', ' ', 'I', 'S', ' ', 'A', 'N', ' ', 'O', 'I', 'U', ' ', 'B', 'E', 'O', 'J', 'A', 'N', ' ', 'M', 'O', 'O', 'T', 'E', 'O', 'E']\n",
      "['1', '1', '0', '0', '0', '1', '1', '0', '0', '1', '1', '0', '1', '1', '1', '0', '1', '1', '0', '1', '1', '0', '0', '1', '0', '1', '1', '0', '1', '1', '0', '0', '1', '1', '1', '1', '0', '1', '0', '1', '1', '0', '0', '1', '1', '1', '1', '0', '1', '1', '0', '1', '1', '0', '1', '0', '0', '0', '0', '1', '0', '0', '1', '1', '0', '0', '0', '1', '0', '1', '0', '0']\n"
     ]
    }
   ],
   "source": [
    "#FP -> IS, QDR -> THE\n",
    "#ZK -> AN\n",
    "#LA -> IN/OF\n",
    "sub_dic3 = {\"P\":\"S\",\"F\":\"I\",\"Q\":\"T\",\"D\":\"H\",\"R\":\"E\",\"Z\":\"A\",\"K\":\"N\", \"L\":\"O\",\"A\":\"F\"}\n",
    "decoded_text, isSubstitute = decode(cipher_text, sub_dic3)\n",
    "print(decoded_text)\n",
    "print(isSubstitute)"
   ]
  },
  {
   "cell_type": "code",
   "execution_count": 34,
   "id": "6046e51e",
   "metadata": {},
   "outputs": [
    {
     "name": "stdout",
     "output_type": "stream",
     "text": [
      "decoded text : SECSRITY IS THE FIRST CASSE OF JISFORTSNE. THIS IS AN OIU BERJAN MROTERE\n",
      "['S', 'E', 'C', 'S', 'R', 'I', 'T', 'Y', ' ', 'I', 'S', ' ', 'T', 'H', 'E', ' ', 'F', 'I', 'R', 'S', 'T', ' ', 'C', 'A', 'S', 'S', 'E', ' ', 'O', 'F', ' ', 'J', 'I', 'S', 'F', 'O', 'R', 'T', 'S', 'N', 'E', '.', ' ', 'T', 'H', 'I', 'S', ' ', 'I', 'S', ' ', 'A', 'N', ' ', 'O', 'I', 'U', ' ', 'B', 'E', 'R', 'J', 'A', 'N', ' ', 'M', 'R', 'O', 'T', 'E', 'R', 'E']\n",
      "['1', '1', '0', '0', '1', '1', '1', '1', '0', '1', '1', '0', '1', '1', '1', '0', '1', '1', '1', '1', '1', '0', '0', '1', '0', '1', '1', '0', '1', '1', '0', '0', '1', '1', '1', '1', '1', '1', '0', '1', '1', '0', '0', '1', '1', '1', '1', '0', '1', '1', '0', '1', '1', '0', '1', '0', '0', '0', '0', '1', '1', '0', '1', '1', '0', '0', '1', '1', '0', '1', '1', '0']\n"
     ]
    }
   ],
   "source": [
    "#FP -> IS, QDR -> THE\n",
    "#ZK -> AN\n",
    "#LA -> IN/OF\n",
    "#X->Y, O->R (guess)\n",
    "sub_dic4 = {\"P\":\"S\",\"F\":\"I\",\"Q\":\"T\",\"D\":\"H\",\"R\":\"E\",\"Z\":\"A\",\"K\":\"N\", \"L\":\"O\",\"A\":\"F\",\"X\":\"Y\",\"O\":\"R\"}\n",
    "decoded_text, isSubstitute = decode(cipher_text, sub_dic4)\n",
    "print(decoded_text)\n",
    "print(isSubstitute)"
   ]
  },
  {
   "cell_type": "code",
   "execution_count": 35,
   "id": "84e045a0",
   "metadata": {},
   "outputs": [
    {
     "name": "stdout",
     "output_type": "stream",
     "text": [
      "decoded text : SECURITY IS THE FIRST CAUSE OF JISFORTUNE. THIS IS AN OIU BERJAN MROTERE\n",
      "['S', 'E', 'C', 'U', 'R', 'I', 'T', 'Y', ' ', 'I', 'S', ' ', 'T', 'H', 'E', ' ', 'F', 'I', 'R', 'S', 'T', ' ', 'C', 'A', 'U', 'S', 'E', ' ', 'O', 'F', ' ', 'J', 'I', 'S', 'F', 'O', 'R', 'T', 'U', 'N', 'E', '.', ' ', 'T', 'H', 'I', 'S', ' ', 'I', 'S', ' ', 'A', 'N', ' ', 'O', 'I', 'U', ' ', 'B', 'E', 'R', 'J', 'A', 'N', ' ', 'M', 'R', 'O', 'T', 'E', 'R', 'E']\n",
      "['1', '1', '1', '1', '1', '1', '1', '1', '0', '1', '1', '0', '1', '1', '1', '0', '1', '1', '1', '1', '1', '0', '1', '1', '1', '1', '1', '0', '1', '1', '0', '0', '1', '1', '1', '1', '1', '1', '1', '1', '1', '0', '0', '1', '1', '1', '1', '0', '1', '1', '0', '1', '1', '0', '1', '0', '0', '0', '0', '1', '1', '0', '1', '1', '0', '0', '1', '1', '0', '1', '1', '0']\n"
     ]
    }
   ],
   "source": [
    "#FP -> IS, QDR -> THE\n",
    "#ZK -> AN\n",
    "#LA -> IN/OF\n",
    "#X->Y, O->R (guess)\n",
    "# first word is SECURITY : C->C,S->U\n",
    "sub_dic5 = {\"P\":\"S\",\"F\":\"I\",\"Q\":\"T\",\"D\":\"H\",\"R\":\"E\",\"Z\":\"A\",\"K\":\"N\", \"L\":\"O\",\"A\":\"F\",\"X\":\"Y\",\"O\":\"R\",\"C\":\"C\",\"S\":\"U\"}\n",
    "decoded_text, isSubstitute = decode(cipher_text, sub_dic5)\n",
    "print(decoded_text)\n",
    "print(isSubstitute)"
   ]
  },
  {
   "cell_type": "code",
   "execution_count": 36,
   "id": "8e05e3d6",
   "metadata": {},
   "outputs": [
    {
     "name": "stdout",
     "output_type": "stream",
     "text": [
      "decoded text : SECURITY IS THE FIRST CAUSE OF MISFORTUNE. THIS IS AN OIU BERMAN MROTERE\n",
      "['S', 'E', 'C', 'U', 'R', 'I', 'T', 'Y', ' ', 'I', 'S', ' ', 'T', 'H', 'E', ' ', 'F', 'I', 'R', 'S', 'T', ' ', 'C', 'A', 'U', 'S', 'E', ' ', 'O', 'F', ' ', 'M', 'I', 'S', 'F', 'O', 'R', 'T', 'U', 'N', 'E', '.', ' ', 'T', 'H', 'I', 'S', ' ', 'I', 'S', ' ', 'A', 'N', ' ', 'O', 'I', 'U', ' ', 'B', 'E', 'R', 'M', 'A', 'N', ' ', 'M', 'R', 'O', 'T', 'E', 'R', 'E']\n",
      "['1', '1', '1', '1', '1', '1', '1', '1', '0', '1', '1', '0', '1', '1', '1', '0', '1', '1', '1', '1', '1', '0', '1', '1', '1', '1', '1', '0', '1', '1', '0', '1', '1', '1', '1', '1', '1', '1', '1', '1', '1', '0', '0', '1', '1', '1', '1', '0', '1', '1', '0', '1', '1', '0', '1', '0', '0', '0', '0', '1', '1', '1', '1', '1', '0', '0', '1', '1', '0', '1', '1', '0']\n"
     ]
    }
   ],
   "source": [
    "#FP -> IS, QDR -> THE\n",
    "#ZK -> AN\n",
    "#LA -> IN/OF\n",
    "#X->Y, O->R (guess)\n",
    "# first word is SECURITY : C->C,S->U\n",
    "# misfortune : J->M\n",
    "sub_dic6 = {\"P\":\"S\",\"F\":\"I\",\"Q\":\"T\",\"D\":\"H\",\"R\":\"E\",\"Z\":\"A\",\"K\":\"N\", \"L\":\"O\",\"A\":\"F\",\"X\":\"Y\",\"O\":\"R\",\"C\":\"C\",\"S\":\"U\",\"J\":\"M\"}\n",
    "decoded_text, isSubstitute = decode(cipher_text, sub_dic6)\n",
    "print(decoded_text)\n",
    "print(isSubstitute)"
   ]
  },
  {
   "cell_type": "code",
   "execution_count": 37,
   "id": "cf7dca5c",
   "metadata": {},
   "outputs": [
    {
     "name": "stdout",
     "output_type": "stream",
     "text": [
      "decoded text : SECURITY IS THE FIRST CAUSE OF MISFORTUNE. THIS IS AN OIU GERMAN MROTERE\n",
      "['S', 'E', 'C', 'U', 'R', 'I', 'T', 'Y', ' ', 'I', 'S', ' ', 'T', 'H', 'E', ' ', 'F', 'I', 'R', 'S', 'T', ' ', 'C', 'A', 'U', 'S', 'E', ' ', 'O', 'F', ' ', 'M', 'I', 'S', 'F', 'O', 'R', 'T', 'U', 'N', 'E', '.', ' ', 'T', 'H', 'I', 'S', ' ', 'I', 'S', ' ', 'A', 'N', ' ', 'O', 'I', 'U', ' ', 'G', 'E', 'R', 'M', 'A', 'N', ' ', 'M', 'R', 'O', 'T', 'E', 'R', 'E']\n",
      "['1', '1', '1', '1', '1', '1', '1', '1', '0', '1', '1', '0', '1', '1', '1', '0', '1', '1', '1', '1', '1', '0', '1', '1', '1', '1', '1', '0', '1', '1', '0', '1', '1', '1', '1', '1', '1', '1', '1', '1', '1', '0', '0', '1', '1', '1', '1', '0', '1', '1', '0', '1', '1', '0', '1', '0', '0', '0', '1', '1', '1', '1', '1', '1', '0', '0', '1', '1', '0', '1', '1', '0']\n"
     ]
    }
   ],
   "source": [
    "#FP -> IS, QDR -> THE\n",
    "#ZK -> AN\n",
    "#LA -> IN/OF\n",
    "#X->Y, O->R (guess)\n",
    "# first word is SECURITY : C->C,S->U\n",
    "# misfortune : J->M\n",
    "# german -> B->G\n",
    "sub_dic7 = {\"P\":\"S\",\"F\":\"I\",\"Q\":\"T\",\"D\":\"H\",\"R\":\"E\",\"Z\":\"A\",\"K\":\"N\", \"L\":\"O\",\"A\":\"F\",\"X\":\"Y\",\"O\":\"R\",\"C\":\"C\",\"S\":\"U\",\"J\":\"M\",\"B\":\"G\"}\n",
    "decoded_text, isSubstitute = decode(cipher_text, sub_dic7)\n",
    "print(decoded_text)\n",
    "print(isSubstitute)"
   ]
  },
  {
   "cell_type": "code",
   "execution_count": 38,
   "id": "b986d231",
   "metadata": {},
   "outputs": [
    {
     "name": "stdout",
     "output_type": "stream",
     "text": [
      "decoded text : SECURITY IS THE FIRST CAUSE OF MISFORTUNE. THIS IS AN OLD GERMAN MROTERE\n",
      "['S', 'E', 'C', 'U', 'R', 'I', 'T', 'Y', ' ', 'I', 'S', ' ', 'T', 'H', 'E', ' ', 'F', 'I', 'R', 'S', 'T', ' ', 'C', 'A', 'U', 'S', 'E', ' ', 'O', 'F', ' ', 'M', 'I', 'S', 'F', 'O', 'R', 'T', 'U', 'N', 'E', '.', ' ', 'T', 'H', 'I', 'S', ' ', 'I', 'S', ' ', 'A', 'N', ' ', 'O', 'L', 'D', ' ', 'G', 'E', 'R', 'M', 'A', 'N', ' ', 'M', 'R', 'O', 'T', 'E', 'R', 'E']\n",
      "['1', '1', '1', '1', '1', '1', '1', '1', '0', '1', '1', '0', '1', '1', '1', '0', '1', '1', '1', '1', '1', '0', '1', '1', '1', '1', '1', '0', '1', '1', '0', '1', '1', '1', '1', '1', '1', '1', '1', '1', '1', '0', '0', '1', '1', '1', '1', '0', '1', '1', '0', '1', '1', '0', '1', '1', '1', '0', '1', '1', '1', '1', '1', '1', '0', '0', '1', '1', '0', '1', '1', '0']\n"
     ]
    }
   ],
   "source": [
    "#FP -> IS, QDR -> THE\n",
    "#ZK -> AN\n",
    "#LA -> IN/OF\n",
    "#X->Y, O->R (guess)\n",
    "# first word is SECURITY : C->C,S->U\n",
    "# misfortune : J->M\n",
    "# german -> B->G\n",
    "# old(must be an adj.) : I->L, U->D\n",
    "sub_dic8 = {\"P\":\"S\",\"F\":\"I\",\"Q\":\"T\",\"D\":\"H\",\"R\":\"E\",\"Z\":\"A\",\"K\":\"N\", \"L\":\"O\",\"A\":\"F\",\"X\":\"Y\",\"O\":\"R\",\"C\":\"C\",\"S\":\"U\",\"J\":\"M\",\"B\":\"G\",\"I\":\"L\",\"U\":\"D\"}\n",
    "decoded_text, isSubstitute = decode(cipher_text, sub_dic8)\n",
    "print(decoded_text)\n",
    "print(isSubstitute)"
   ]
  },
  {
   "cell_type": "markdown",
   "id": "1975c10e",
   "metadata": {},
   "source": [
    "![alt text](answer.png)"
   ]
  },
  {
   "cell_type": "code",
   "execution_count": 39,
   "id": "323831d2",
   "metadata": {},
   "outputs": [
    {
     "name": "stdout",
     "output_type": "stream",
     "text": [
      "decoded text : SECURITY IS THE FIRST CAUSE OF MISFORTUNE. THIS IS AN OLD GERMAN PROVERB\n",
      "['S', 'E', 'C', 'U', 'R', 'I', 'T', 'Y', ' ', 'I', 'S', ' ', 'T', 'H', 'E', ' ', 'F', 'I', 'R', 'S', 'T', ' ', 'C', 'A', 'U', 'S', 'E', ' ', 'O', 'F', ' ', 'M', 'I', 'S', 'F', 'O', 'R', 'T', 'U', 'N', 'E', '.', ' ', 'T', 'H', 'I', 'S', ' ', 'I', 'S', ' ', 'A', 'N', ' ', 'O', 'L', 'D', ' ', 'G', 'E', 'R', 'M', 'A', 'N', ' ', 'P', 'R', 'O', 'V', 'E', 'R', 'B']\n",
      "['1', '1', '1', '1', '1', '1', '1', '1', '0', '1', '1', '0', '1', '1', '1', '0', '1', '1', '1', '1', '1', '0', '1', '1', '1', '1', '1', '0', '1', '1', '0', '1', '1', '1', '1', '1', '1', '1', '1', '1', '1', '0', '0', '1', '1', '1', '1', '0', '1', '1', '0', '1', '1', '0', '1', '1', '1', '0', '1', '1', '1', '1', '1', '1', '0', '1', '1', '1', '1', '1', '1', '1']\n"
     ]
    }
   ],
   "source": [
    "#FP -> IS, QDR -> THE\n",
    "#ZK -> AN\n",
    "#LA -> IN/OF\n",
    "#X->Y, O->R (guess)\n",
    "# first word is SECURITY : C->C,S->U\n",
    "# misfortune : J->M\n",
    "# german -> B->G\n",
    "# old(must be an adj.) : I->L, U->D\n",
    "# GPT : M->P, T->V, E->B\n",
    "sub_dic9 = {\"P\":\"S\",\"F\":\"I\",\"Q\":\"T\",\"D\":\"H\",\"R\":\"E\",\"Z\":\"A\",\"K\":\"N\", \"L\":\"O\",\"A\":\"F\",\"X\":\"Y\",\"O\":\"R\",\"C\":\"C\",\"S\":\"U\",\"J\":\"M\",\"B\":\"G\",\"I\":\"L\",\"U\":\"D\",\"M\":\"P\",\"T\":\"V\",\"E\":\"B\"}\n",
    "decoded_text, isSubstitute = decode(cipher_text, sub_dic9)\n",
    "print(decoded_text)\n",
    "print(isSubstitute)"
   ]
  },
  {
   "cell_type": "markdown",
   "id": "1c128ec6",
   "metadata": {},
   "source": [
    "### QUESTION\n",
    "##### a: P, R, O\n",
    "##### b: is, in, of, the, an\n",
    "##### c: SECURITY IS THE FIRST CAUSE OF MISFORTUNE. THIS IS AN OLD GERMAN PROVERB  \n",
    "##### d: this take me about 1 hour"
   ]
  },
  {
   "cell_type": "markdown",
   "id": "0ee86493",
   "metadata": {},
   "source": [
    "# 2"
   ]
  },
  {
   "cell_type": "markdown",
   "id": "b0fe25aa",
   "metadata": {},
   "source": [
    "Vigenère เป็นการเข้ารหัสแบบ polyalphabetic substitution ใช้ คีย์หลายตัว หมุนซ้ำ\n",
    "\n",
    "Kasiski Examination ใช้ การหาลวดลายซ้ำของ ciphertext เพื่อคาดเดาความยาวของคีย์\n",
    "\n",
    "เมื่อรู้ความยาวคีย์แล้ว สามารถแยก ciphertext เป็น ชุดของ Caesar cipher แต่ละชุด → ถอดรหัสได้ง่ายขึ้น"
   ]
  },
  {
   "cell_type": "markdown",
   "id": "daea4686",
   "metadata": {},
   "source": [
    "# 3"
   ]
  },
  {
   "cell_type": "markdown",
   "id": "0a27af0b",
   "metadata": {},
   "source": [
    "original\n",
    "![alt text](image.jpg)"
   ]
  },
  {
   "cell_type": "markdown",
   "id": "27d3b48c",
   "metadata": {},
   "source": [
    "org.pbm\n",
    "![alt text](org.png)"
   ]
  },
  {
   "cell_type": "markdown",
   "id": "548caaf7",
   "metadata": {},
   "source": [
    "ecb_enc.pbm\n",
    "![alt text](ecb_enc.png)"
   ]
  },
  {
   "cell_type": "markdown",
   "id": "0eefc7d0",
   "metadata": {},
   "source": [
    "cbc_enc.pbm\n",
    "![alt text](cbc_enc.png)"
   ]
  },
  {
   "cell_type": "markdown",
   "id": "959de725",
   "metadata": {},
   "source": [
    "# 4"
   ]
  },
  {
   "cell_type": "markdown",
   "id": "50e172ba",
   "metadata": {},
   "source": [
    "![alt text](sha1.png)\n",
    "![alt text](rc4.png)\n",
    "![alt text](blowfish.png)\n",
    "![alt text](dsa.png)"
   ]
  },
  {
   "cell_type": "markdown",
   "id": "95fa90cc",
   "metadata": {},
   "source": [
    "## Question\n",
    "##### b\n",
    "##### SHA1,RC4,Blowfish ถูกออกแบบมาเพื่อความเร็ว โดยมีอัตราการส่งข้อมูลสูงในระดับเมกะไบต์ต่อวินาที (MB/s) ประสิทธิภาพของพวกมันค่อนข้างใกล้เคียงกัน โดยรหัสแบบสตรีมอย่าง RC4 มักจะเหนือกว่าเล็กน้อยเนื่องจากการออกแบบที่เรียบง่ายกว่า\n",
    "##### DSA ต้องใช้การคำนวณที่ซับซ้อนมาก ประสิทธิภาพของมันจึงช้ากว่า\n",
    "\n",
    "##### c\n",
    "##### 1.สร้างค่าแฮชของข้อความ\n",
    "##### 2.ใช้ กุญแจส่วนตัวของผู้ส่งมาลงลายเซ็นบนค่าแฮช เพื่อยืนยันว่า ผู้ส่งเป็นเจ้าของกุญแจจริง\n",
    "##### 3.ผู้รับคำนวณค่าแฮชของข้อความที่ได้รับและตรวจสอบลายเซ็นด้วย กุญแจสาธารณะของผู้ส่ง หากตรงกัน → ข้อความถูกต้องและไม่ถูกแก้ไข\n",
    "\n",
    "##### hase function มีจุดแข็งคือทำให้ตรวจสอบข้อความเร็ว, ลดขนาดข้อมูล แต่ถ้า hash อ่อน → อาจถูกโจมตี\n",
    "##### Asymmetric encryption มีจุดแข็งคือยืนยันตัวตนผู้ส่งและป้องกันการปฏิเสธ แต่ช้า, ต้องพึ่งพาความปลอดภัยของกุญแจ"
   ]
  }
 ],
 "metadata": {
  "kernelspec": {
   "display_name": "Python 3",
   "language": "python",
   "name": "python3"
  },
  "language_info": {
   "codemirror_mode": {
    "name": "ipython",
    "version": 3
   },
   "file_extension": ".py",
   "mimetype": "text/x-python",
   "name": "python",
   "nbconvert_exporter": "python",
   "pygments_lexer": "ipython3",
   "version": "3.12.3"
  }
 },
 "nbformat": 4,
 "nbformat_minor": 5
}
